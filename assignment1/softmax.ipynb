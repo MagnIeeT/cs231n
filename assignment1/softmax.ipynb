{
 "cells": [
  {
   "cell_type": "markdown",
   "metadata": {},
   "source": [
    "# Softmax exercise\n",
    "\n",
    "*Complete and hand in this completed worksheet (including its outputs and any supporting code outside of the worksheet) with your assignment submission. For more details see the [assignments page](http://vision.stanford.edu/teaching/cs231n/assignments.html) on the course website.*\n",
    "\n",
    "This exercise is analogous to the SVM exercise. You will:\n",
    "\n",
    "- implement a fully-vectorized **loss function** for the Softmax classifier\n",
    "- implement the fully-vectorized expression for its **analytic gradient**\n",
    "- **check your implementation** with numerical gradient\n",
    "- use a validation set to **tune the learning rate and regularization** strength\n",
    "- **optimize** the loss function with **SGD**\n",
    "- **visualize** the final learned weights\n"
   ]
  },
  {
   "cell_type": "code",
   "execution_count": 2,
   "metadata": {},
   "outputs": [],
   "source": [
    "from __future__ import print_function\n",
    "import random\n",
    "import numpy as np\n",
    "from cs231n.data_utils import load_CIFAR10\n",
    "import matplotlib.pyplot as plt\n",
    "\n",
    "\n",
    "%matplotlib inline\n",
    "plt.rcParams['figure.figsize'] = (10.0, 8.0) # set default size of plots\n",
    "plt.rcParams['image.interpolation'] = 'nearest'\n",
    "plt.rcParams['image.cmap'] = 'gray'\n",
    "\n",
    "# for auto-reloading extenrnal modules\n",
    "# see http://stackoverflow.com/questions/1907993/autoreload-of-modules-in-ipython\n",
    "%load_ext autoreload\n",
    "%autoreload 2"
   ]
  },
  {
   "cell_type": "code",
   "execution_count": 3,
   "metadata": {},
   "outputs": [
    {
     "name": "stdout",
     "output_type": "stream",
     "text": [
      "Train data shape:  (49000, 3073)\n",
      "Train labels shape:  (49000,)\n",
      "Validation data shape:  (1000, 3073)\n",
      "Validation labels shape:  (1000,)\n",
      "Test data shape:  (1000, 3073)\n",
      "Test labels shape:  (1000,)\n",
      "dev data shape:  (500, 3073)\n",
      "dev labels shape:  (500,)\n"
     ]
    }
   ],
   "source": [
    "def get_CIFAR10_data(num_training=49000, num_validation=1000, num_test=1000, num_dev=500):\n",
    "    \"\"\"\n",
    "    Load the CIFAR-10 dataset from disk and perform preprocessing to prepare\n",
    "    it for the linear classifier. These are the same steps as we used for the\n",
    "    SVM, but condensed to a single function.  \n",
    "    \"\"\"\n",
    "    # Load the raw CIFAR-10 data\n",
    "    cifar10_dir = 'cs231n/datasets/cifar-10-batches-py'\n",
    "    \n",
    "    X_train, y_train, X_test, y_test = load_CIFAR10(cifar10_dir)\n",
    "    \n",
    "    # subsample the data\n",
    "    mask = list(range(num_training, num_training + num_validation))\n",
    "    X_val = X_train[mask]\n",
    "    y_val = y_train[mask]\n",
    "    mask = list(range(num_training))\n",
    "    X_train = X_train[mask]\n",
    "    y_train = y_train[mask]\n",
    "    mask = list(range(num_test))\n",
    "    X_test = X_test[mask]\n",
    "    y_test = y_test[mask]\n",
    "    mask = np.random.choice(num_training, num_dev, replace=False)\n",
    "    X_dev = X_train[mask]\n",
    "    y_dev = y_train[mask]\n",
    "    \n",
    "    # Preprocessing: reshape the image data into rows\n",
    "    X_train = np.reshape(X_train, (X_train.shape[0], -1))\n",
    "    X_val = np.reshape(X_val, (X_val.shape[0], -1))\n",
    "    X_test = np.reshape(X_test, (X_test.shape[0], -1))\n",
    "    X_dev = np.reshape(X_dev, (X_dev.shape[0], -1))\n",
    "    \n",
    "    # Normalize the data: subtract the mean image\n",
    "    mean_image = np.mean(X_train, axis = 0)\n",
    "    X_train -= mean_image\n",
    "    X_val -= mean_image\n",
    "    X_test -= mean_image\n",
    "    X_dev -= mean_image\n",
    "    \n",
    "    # add bias dimension and transform into columns\n",
    "    X_train = np.hstack([X_train, np.ones((X_train.shape[0], 1))])\n",
    "    X_val = np.hstack([X_val, np.ones((X_val.shape[0], 1))])\n",
    "    X_test = np.hstack([X_test, np.ones((X_test.shape[0], 1))])\n",
    "    X_dev = np.hstack([X_dev, np.ones((X_dev.shape[0], 1))])\n",
    "    \n",
    "    return X_train, y_train, X_val, y_val, X_test, y_test, X_dev, y_dev\n",
    "\n",
    "\n",
    "# Cleaning up variables to prevent loading data multiple times (which may cause memory issue)\n",
    "try:\n",
    "    del X_train, y_train\n",
    "    del X_test, y_test\n",
    "    print('Clear previously loaded data.')\n",
    "except:\n",
    "    pass\n",
    "\n",
    "# Invoke the above function to get our data.\n",
    "X_train, y_train, X_val, y_val, X_test, y_test, X_dev, y_dev = get_CIFAR10_data()\n",
    "print('Train data shape: ', X_train.shape)\n",
    "print('Train labels shape: ', y_train.shape)\n",
    "print('Validation data shape: ', X_val.shape)\n",
    "print('Validation labels shape: ', y_val.shape)\n",
    "print('Test data shape: ', X_test.shape)\n",
    "print('Test labels shape: ', y_test.shape)\n",
    "print('dev data shape: ', X_dev.shape)\n",
    "print('dev labels shape: ', y_dev.shape)"
   ]
  },
  {
   "cell_type": "markdown",
   "metadata": {},
   "source": [
    "## Softmax Classifier\n",
    "\n",
    "Your code for this section will all be written inside **cs231n/classifiers/softmax.py**. \n"
   ]
  },
  {
   "cell_type": "code",
   "execution_count": 29,
   "metadata": {},
   "outputs": [
    {
     "name": "stdout",
     "output_type": "stream",
     "text": [
      "loss: 2.372473\n",
      "sanity check: 2.302585\n"
     ]
    }
   ],
   "source": [
    "# First implement the naive softmax loss function with nested loops.\n",
    "# Open the file cs231n/classifiers/softmax.py and implement the\n",
    "# softmax_loss_naive function.\n",
    "\n",
    "from cs231n.classifiers.softmax import softmax_loss_naive\n",
    "import time\n",
    "\n",
    "# Generate a random softmax weight matrix and use it to compute the loss.\n",
    "W = np.random.randn(3073, 10) * 0.0001\n",
    "loss, grad = softmax_loss_naive(W, X_dev, y_dev, 0.0)\n",
    "\n",
    "# As a rough sanity check, our loss should be something close to -log(0.1).\n",
    "print('loss: %f' % loss)\n",
    "print('sanity check: %f' % (-np.log(0.1)))"
   ]
  },
  {
   "cell_type": "markdown",
   "metadata": {},
   "source": [
    "## Inline Question 1:\n",
    "Why do we expect our loss to be close to -log(0.1)? Explain briefly.**\n",
    "\n",
    "**Your answer:** \n",
    "There are ten classes, with random weights, all classes should be equally probable. Therefore it is 1/10=0.1 \n"
   ]
  },
  {
   "cell_type": "code",
   "execution_count": 30,
   "metadata": {},
   "outputs": [
    {
     "name": "stdout",
     "output_type": "stream",
     "text": [
      "numerical: -0.008523 analytic: -0.008524, relative error: 5.705374e-06\n",
      "numerical: 0.801568 analytic: 0.801568, relative error: 3.563611e-08\n",
      "numerical: 4.226120 analytic: 4.226120, relative error: 1.978579e-08\n",
      "numerical: 0.586917 analytic: 0.586917, relative error: 2.629271e-08\n",
      "numerical: -1.278199 analytic: -1.278199, relative error: 2.866917e-08\n",
      "numerical: -5.857762 analytic: -5.857762, relative error: 6.230072e-09\n",
      "numerical: 1.446634 analytic: 1.446633, relative error: 7.362025e-09\n",
      "numerical: -1.517373 analytic: -1.517373, relative error: 1.135607e-08\n",
      "numerical: 0.240660 analytic: 0.240660, relative error: 1.543488e-07\n",
      "numerical: 0.432777 analytic: 0.432777, relative error: 6.270987e-08\n",
      "numerical: -0.254004 analytic: -0.254004, relative error: 2.427939e-07\n",
      "numerical: -2.114270 analytic: -2.114270, relative error: 4.559130e-09\n",
      "numerical: -1.202763 analytic: -1.202763, relative error: 1.071065e-08\n",
      "numerical: -2.514878 analytic: -2.514879, relative error: 2.482907e-08\n",
      "numerical: -0.234031 analytic: -0.234031, relative error: 1.797723e-07\n",
      "numerical: 1.251447 analytic: 1.251447, relative error: 2.178904e-09\n",
      "numerical: 1.818879 analytic: 1.818879, relative error: 1.752832e-08\n",
      "numerical: 0.646293 analytic: 0.646293, relative error: 8.433499e-08\n",
      "numerical: 4.648759 analytic: 4.648759, relative error: 1.215717e-08\n",
      "numerical: 2.260040 analytic: 2.260040, relative error: 1.257731e-08\n"
     ]
    }
   ],
   "source": [
    "# Complete the implementation of softmax_loss_naive and implement a (naive)\n",
    "# version of the gradient that uses nested loops.\n",
    "loss, grad = softmax_loss_naive(W, X_dev, y_dev, 0.0)\n",
    "\n",
    "# As we did for the SVM, use numeric gradient checking as a debugging tool.\n",
    "# The numeric gradient should be close to the analytic gradient.\n",
    "from cs231n.gradient_check import grad_check_sparse\n",
    "f = lambda w: softmax_loss_naive(w, X_dev, y_dev, 0.0)[0]\n",
    "grad_numerical = grad_check_sparse(f, W, grad, 10)\n",
    "\n",
    "# similar to SVM case, do another gradient check with regularization\n",
    "loss, grad = softmax_loss_naive(W, X_dev, y_dev, 5e1)\n",
    "f = lambda w: softmax_loss_naive(w, X_dev, y_dev, 5e1)[0]\n",
    "grad_numerical = grad_check_sparse(f, W, grad, 10)"
   ]
  },
  {
   "cell_type": "code",
   "execution_count": 36,
   "metadata": {},
   "outputs": [
    {
     "name": "stdout",
     "output_type": "stream",
     "text": [
      "naive loss: 2.372473e+00 computed in 0.067692s\n",
      "vectorized loss: 2.372473e+00 computed in 0.002929s\n",
      "Loss difference: 0.000000\n",
      "Gradient difference: 0.000000\n"
     ]
    }
   ],
   "source": [
    "# Now that we have a naive implementation of the softmax loss function and its gradient,\n",
    "# implement a vectorized version in softmax_loss_vectorized.\n",
    "# The two versions should compute the same results, but the vectorized version should be\n",
    "# much faster.\n",
    "tic = time.time()\n",
    "loss_naive, grad_naive = softmax_loss_naive(W, X_dev, y_dev, 0.000005)\n",
    "toc = time.time()\n",
    "print('naive loss: %e computed in %fs' % (loss_naive, toc - tic))\n",
    "\n",
    "from cs231n.classifiers.softmax import softmax_loss_vectorized\n",
    "tic = time.time()\n",
    "loss_vectorized, grad_vectorized = softmax_loss_vectorized(W, X_dev, y_dev, 0.000005)\n",
    "toc = time.time()\n",
    "print('vectorized loss: %e computed in %fs' % (loss_vectorized, toc - tic))\n",
    "\n",
    "# As we did for the SVM, we use the Frobenius norm to compare the two versions\n",
    "# of the gradient.\n",
    "grad_difference = np.linalg.norm(grad_naive - grad_vectorized, ord='fro')\n",
    "print('Loss difference: %f' % np.abs(loss_naive - loss_vectorized))\n",
    "print('Gradient difference: %f' % grad_difference)"
   ]
  },
  {
   "cell_type": "code",
   "execution_count": 41,
   "metadata": {
    "scrolled": true
   },
   "outputs": [
    {
     "name": "stdout",
     "output_type": "stream",
     "text": [
      "iteration 0 / 10000: loss 5.667983\n",
      "iteration 100 / 10000: loss 1.694097\n",
      "iteration 200 / 10000: loss 1.431847\n",
      "iteration 300 / 10000: loss 1.255920\n",
      "iteration 400 / 10000: loss 0.960477\n",
      "iteration 500 / 10000: loss 0.801305\n",
      "iteration 600 / 10000: loss 0.676476\n",
      "iteration 700 / 10000: loss 0.620766\n",
      "iteration 800 / 10000: loss 0.597745\n",
      "iteration 900 / 10000: loss 0.536494\n",
      "iteration 1000 / 10000: loss 0.469061\n",
      "iteration 1100 / 10000: loss 0.404634\n",
      "iteration 1200 / 10000: loss 0.381021\n",
      "iteration 1300 / 10000: loss 0.448190\n",
      "iteration 1400 / 10000: loss 0.384352\n",
      "iteration 1500 / 10000: loss 0.316258\n",
      "iteration 1600 / 10000: loss 0.284823\n",
      "iteration 1700 / 10000: loss 0.276029\n",
      "iteration 1800 / 10000: loss 0.255772\n",
      "iteration 1900 / 10000: loss 0.305042\n",
      "iteration 2000 / 10000: loss 0.218059\n",
      "iteration 2100 / 10000: loss 0.221109\n",
      "iteration 2200 / 10000: loss 0.202693\n",
      "iteration 2300 / 10000: loss 0.186542\n",
      "iteration 2400 / 10000: loss 0.191012\n",
      "iteration 2500 / 10000: loss 0.183268\n",
      "iteration 2600 / 10000: loss 0.148852\n",
      "iteration 2700 / 10000: loss 0.173682\n",
      "iteration 2800 / 10000: loss 0.157385\n",
      "iteration 2900 / 10000: loss 0.156912\n",
      "iteration 3000 / 10000: loss 0.127020\n",
      "iteration 3100 / 10000: loss 0.133097\n",
      "iteration 3200 / 10000: loss 0.132576\n",
      "iteration 3300 / 10000: loss 0.106843\n",
      "iteration 3400 / 10000: loss 0.129257\n",
      "iteration 3500 / 10000: loss 0.136936\n",
      "iteration 3600 / 10000: loss 0.107756\n",
      "iteration 3700 / 10000: loss 0.124959\n",
      "iteration 3800 / 10000: loss 0.112423\n",
      "iteration 3900 / 10000: loss 0.108755\n",
      "iteration 4000 / 10000: loss 0.104129\n",
      "iteration 4100 / 10000: loss 0.087639\n",
      "iteration 4200 / 10000: loss 0.091243\n",
      "iteration 4300 / 10000: loss 0.107776\n",
      "iteration 4400 / 10000: loss 0.092936\n",
      "iteration 4500 / 10000: loss 0.086007\n",
      "iteration 4600 / 10000: loss 0.078817\n",
      "iteration 4700 / 10000: loss 0.084501\n",
      "iteration 4800 / 10000: loss 0.082286\n",
      "iteration 4900 / 10000: loss 0.085507\n",
      "iteration 5000 / 10000: loss 0.086294\n",
      "iteration 5100 / 10000: loss 0.087099\n",
      "iteration 5200 / 10000: loss 0.086773\n",
      "iteration 5300 / 10000: loss 0.076311\n",
      "iteration 5400 / 10000: loss 0.077442\n",
      "iteration 5500 / 10000: loss 0.072911\n",
      "iteration 5600 / 10000: loss 0.076988\n",
      "iteration 5700 / 10000: loss 0.074444\n",
      "iteration 5800 / 10000: loss 0.066889\n",
      "iteration 5900 / 10000: loss 0.063404\n",
      "iteration 6000 / 10000: loss 0.061547\n",
      "iteration 6100 / 10000: loss 0.061671\n",
      "iteration 6200 / 10000: loss 0.061861\n",
      "iteration 6300 / 10000: loss 0.065708\n",
      "iteration 6400 / 10000: loss 0.059815\n",
      "iteration 6500 / 10000: loss 0.056609\n",
      "iteration 6600 / 10000: loss 0.058862\n",
      "iteration 6700 / 10000: loss 0.054847\n",
      "iteration 6800 / 10000: loss 0.063021\n",
      "iteration 6900 / 10000: loss 0.053347\n",
      "iteration 7000 / 10000: loss 0.057800\n",
      "iteration 7100 / 10000: loss 0.056661\n",
      "iteration 7200 / 10000: loss 0.056238\n",
      "iteration 7300 / 10000: loss 0.054912\n",
      "iteration 7400 / 10000: loss 0.057649\n",
      "iteration 7500 / 10000: loss 0.059035\n",
      "iteration 7600 / 10000: loss 0.045621\n",
      "iteration 7700 / 10000: loss 0.048075\n",
      "iteration 7800 / 10000: loss 0.049155\n",
      "iteration 7900 / 10000: loss 0.043330\n",
      "iteration 8000 / 10000: loss 0.048043\n",
      "iteration 8100 / 10000: loss 0.052415\n",
      "iteration 8200 / 10000: loss 0.042964\n",
      "iteration 8300 / 10000: loss 0.046806\n",
      "iteration 8400 / 10000: loss 0.045180\n",
      "iteration 8500 / 10000: loss 0.046256\n",
      "iteration 8600 / 10000: loss 0.044277\n",
      "iteration 8700 / 10000: loss 0.044807\n",
      "iteration 8800 / 10000: loss 0.043792\n",
      "iteration 8900 / 10000: loss 0.044424\n",
      "iteration 9000 / 10000: loss 0.044020\n",
      "iteration 9100 / 10000: loss 0.042684\n",
      "iteration 9200 / 10000: loss 0.038725\n",
      "iteration 9300 / 10000: loss 0.038298\n",
      "iteration 9400 / 10000: loss 0.037388\n",
      "iteration 9500 / 10000: loss 0.040085\n",
      "iteration 9600 / 10000: loss 0.039277\n",
      "iteration 9700 / 10000: loss 0.040031\n",
      "iteration 9800 / 10000: loss 0.035912\n",
      "iteration 9900 / 10000: loss 0.041479\n",
      "accuracy: 1.000000\n"
     ]
    }
   ],
   "source": [
    "from cs231n.classifiers import Softmax\n",
    "softmax = Softmax()\n",
    "loss_hist = softmax.train(X_dev, y_dev, learning_rate=1e-6, reg=0.000001,\n",
    "                      num_iters=10000, verbose=True)\n",
    "y_dev_pred = softmax.predict(X_dev)\n",
    "print('accuracy: %f' %(np.mean(y_dev==y_dev_pred)))"
   ]
  },
  {
   "cell_type": "code",
   "execution_count": 42,
   "metadata": {},
   "outputs": [
    {
     "name": "stdout",
     "output_type": "stream",
     "text": [
      "lr -6.615929e+00 reg 3.725213e+00 train accuracy: 0.371184 val accuracy: 0.383000\n",
      "lr -6.572594e+00 reg 3.603363e+00 train accuracy: 0.379592 val accuracy: 0.389000\n",
      "lr -6.535412e+00 reg 3.602506e+00 train accuracy: 0.375306 val accuracy: 0.390000\n",
      "lr -6.528889e+00 reg 4.222764e+00 train accuracy: 0.346000 val accuracy: 0.352000\n",
      "lr -6.489569e+00 reg 3.595491e+00 train accuracy: 0.374122 val accuracy: 0.381000\n",
      "lr -6.459052e+00 reg 3.829247e+00 train accuracy: 0.362796 val accuracy: 0.369000\n",
      "lr -6.455461e+00 reg 4.030451e+00 train accuracy: 0.350388 val accuracy: 0.359000\n",
      "lr -6.443623e+00 reg 4.336166e+00 train accuracy: 0.329204 val accuracy: 0.344000\n",
      "lr -6.409073e+00 reg 4.172789e+00 train accuracy: 0.349204 val accuracy: 0.362000\n",
      "lr -6.375661e+00 reg 4.257046e+00 train accuracy: 0.339612 val accuracy: 0.347000\n",
      "lr -6.345315e+00 reg 3.766526e+00 train accuracy: 0.368082 val accuracy: 0.382000\n",
      "lr -6.317473e+00 reg 4.483381e+00 train accuracy: 0.318469 val accuracy: 0.334000\n",
      "lr -6.284362e+00 reg 3.592320e+00 train accuracy: 0.373755 val accuracy: 0.385000\n",
      "lr -6.267863e+00 reg 4.159513e+00 train accuracy: 0.338857 val accuracy: 0.358000\n",
      "lr -6.247772e+00 reg 3.704733e+00 train accuracy: 0.373449 val accuracy: 0.392000\n",
      "best validation accuracy achieved during cross-validation: 0.392000\n"
     ]
    }
   ],
   "source": [
    "# Use the validation set to tune hyperparameters (regularization strength and\n",
    "# learning rate). You should experiment with different ranges for the learning\n",
    "# rates and regularization strengths; if you are careful you should be able to\n",
    "# get a classification accuracy of over 0.35 on the validation set.\n",
    "from cs231n.classifiers import Softmax\n",
    "results = {}\n",
    "best_val = -1\n",
    "best_softmax = None\n",
    "# learning_rates = [1e-7, 5e-7]\n",
    "# regularization_strengths = [2.5e4, 5e4]\n",
    "\n",
    "################################################################################`\n",
    "# TODO:                                                                        #\n",
    "# Use the validation set to set the learning rate and regularization strength. #\n",
    "# This should be identical to the validation that you did for the SVM; save    #\n",
    "# the best trained softmax classifer in best_softmax.                          #\n",
    "################################################################################\n",
    "# for learning_rate in learning_rates:\n",
    "#     for reg in regularization_strengths:\n",
    "for i in range(15):\n",
    "    reg = 10 ** random.uniform(3.5, 4.5)\n",
    "    learning_rate = 10 ** random.uniform(-6.2, -6.7)\n",
    "    softmax = Softmax()\n",
    "    loss_hist = softmax.train(X_train, y_train, learning_rate=learning_rate, reg=reg,\n",
    "                  num_iters=3000, verbose=False)\n",
    "\n",
    "    y_train_pred = softmax.predict(X_train)\n",
    "    acc_train = np.mean(y_train == y_train_pred)\n",
    "\n",
    "    y_val_pred = softmax.predict(X_val)\n",
    "    acc_val = np.mean(y_val == y_val_pred)\n",
    "    if acc_val > best_val:\n",
    "        best_val=acc_val\n",
    "        best_softmax= softmax\n",
    "    results[(learning_rate,reg)] = (acc_train,acc_val)\n",
    "\n",
    "################################################################################\n",
    "#                              END OF YOUR CODE                                #\n",
    "################################################################################\n",
    "    \n",
    "# Print out results.\n",
    "for lr, reg in sorted(results):\n",
    "    train_accuracy, val_accuracy = results[(lr, reg)]\n",
    "    print('lr %e reg %e train accuracy: %f val accuracy: %f' % (\n",
    "                np.log10(lr), np.log10(reg), train_accuracy, val_accuracy))\n",
    "    \n",
    "print('best validation accuracy achieved during cross-validation: %f' % best_val)"
   ]
  },
  {
   "cell_type": "code",
   "execution_count": 43,
   "metadata": {},
   "outputs": [
    {
     "name": "stdout",
     "output_type": "stream",
     "text": [
      "softmax on raw pixels final test set accuracy: 0.377000\n"
     ]
    }
   ],
   "source": [
    "# evaluate on test set\n",
    "# Evaluate the best softmax on test set\n",
    "y_test_pred = best_softmax.predict(X_test)\n",
    "test_accuracy = np.mean(y_test == y_test_pred)\n",
    "print('softmax on raw pixels final test set accuracy: %f' % (test_accuracy, ))"
   ]
  },
  {
   "cell_type": "markdown",
   "metadata": {},
   "source": [
    "**Inline Question** - *True or False*\n",
    "\n",
    "It's possible to add a new datapoint to a training set that would leave the SVM loss unchanged, but this is not the case with the Softmax classifier loss.\n",
    "\n",
    "*Your answer*:True\n",
    "\n",
    "*Your explanation*:If new data point is creating score above the margin, its contribution will be zero, but in case of softmax, it will further try to take it away."
   ]
  },
  {
   "cell_type": "code",
   "execution_count": 44,
   "metadata": {},
   "outputs": [
    {
     "data": {
      "image/png": "[encoded data removed]",
      "text/plain": [
       "<Figure size 720x864 with 10 Axes>"
      ]
     },
     "metadata": {
      "needs_background": "light"
     },
     "output_type": "display_data"
    }
   ],
   "source": [
    "# Visualize the learned weights for each class\n",
    "w = best_softmax.W[:-1,:] # strip out the bias\n",
    "w = w.reshape(32, 32, 3, 10)\n",
    "\n",
    "w_min, w_max = np.min(w), np.max(w)\n",
    "\n",
    "classes = ['plane', 'car', 'bird', 'cat', 'deer', 'dog', 'frog', 'horse', 'ship', 'truck']\n",
    "\n",
    "plt.figure(figsize=(10,12))\n",
    "\n",
    "for i in range(10):\n",
    "    plt.subplot(2, 5, i + 1)\n",
    "    \n",
    "    # Rescale the weights to be between 0 and 255\n",
    "    wimg = 255.0 * (w[:, :, :, i].squeeze() - w_min) / (w_max - w_min)\n",
    "    plt.imshow(wimg.astype('uint8'))\n",
    "    plt.axis('off')\n",
    "    plt.title(classes[i])"
   ]
  }
 ],
 "metadata": {
  "kernelspec": {
   "display_name": "Python 3",
   "language": "python",
   "name": "python3"
  },
  "language_info": {
   "codemirror_mode": {
    "name": "ipython",
    "version": 3
   },
   "file_extension": ".py",
   "mimetype": "text/x-python",
   "name": "python",
   "nbconvert_exporter": "python",
   "pygments_lexer": "ipython3",
   "version": "3.6.7"
  }
 },
 "nbformat": 4,
 "nbformat_minor": 1
}
